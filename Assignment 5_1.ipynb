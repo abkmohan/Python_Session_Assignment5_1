{
 "cells": [
  {
   "cell_type": "code",
   "execution_count": 9,
   "metadata": {},
   "outputs": [
    {
     "name": "stdout",
     "output_type": "stream",
     "text": [
      "Exception occurred. Error is -  DIVISION BY ZERO\n"
     ]
    }
   ],
   "source": [
    "#Course: Data Science Masters\n",
    "#Title: Python - Assignment 5.1\n",
    "#Problem Statement: Write a function to compute 5/0 and use try/except to catch the exceptions.\n",
    "#Tool: Jupyter notebook \n",
    "#Author: Krishna A\n",
    "#Date: 23-2-2018 (DD/MM/YYYY)\n",
    "\n",
    "def myExceptionHandling():\n",
    "    try:\n",
    "        print(5/0)    \n",
    "    except ZeroDivisionError as error:\n",
    "        print(\"Exception occurred. Error is - \", str(error).upper())\n",
    "    except:\n",
    "        print(\"Unexpected error\")\n",
    "\n",
    "myExceptionHandling()"
   ]
  },
  {
   "cell_type": "code",
   "execution_count": null,
   "metadata": {
    "collapsed": true
   },
   "outputs": [],
   "source": []
  }
 ],
 "metadata": {
  "kernelspec": {
   "display_name": "Python 3",
   "language": "python",
   "name": "python3"
  },
  "language_info": {
   "codemirror_mode": {
    "name": "ipython",
    "version": 3
   },
   "file_extension": ".py",
   "mimetype": "text/x-python",
   "name": "python",
   "nbconvert_exporter": "python",
   "pygments_lexer": "ipython3",
   "version": "3.6.3"
  }
 },
 "nbformat": 4,
 "nbformat_minor": 2
}
